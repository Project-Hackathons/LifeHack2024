{
 "cells": [
  {
   "cell_type": "code",
   "execution_count": 2,
   "metadata": {},
   "outputs": [],
   "source": [
    "import os\n",
    "from dotenv import load_dotenv\n",
    "\n",
    "load_dotenv()\n",
    "\n",
    "# print(os.getenv(\"OPENAI_API_KEY\"))\n",
    "\n",
    "from langchain.graphs import Neo4jGraph\n",
    "from langchain.chat_models import ChatOpenAI\n",
    "from langchain.prompts import ChatPromptTemplate\n",
    "from langchain.schema.output_parser import StrOutputParser\n",
    "from langchain.schema.runnable import RunnableParallel\n",
    "\n",
    "from langchain.embeddings import OpenAIEmbeddings\n",
    "from langchain.vectorstores import Neo4jVector\n",
    "\n",
    "graph = Neo4jGraph()"
   ]
  },
  {
   "cell_type": "code",
   "execution_count": null,
   "metadata": {},
   "outputs": [],
   "source": [
    "class PrintRetrievedText:\n",
    "    def __call__(self, data):\n",
    "        print(data)\n",
    "        if isinstance(data, dict):\n",
    "            context = data.get(\"context\", {})\n",
    "            retrieved_text = context.get(\"text\")\n",
    "            if retrieved_text:\n",
    "                print(\"Retrieved Text:\", retrieved_text)\n",
    "            print(data)\n",
    "        return data"
   ]
  },
  {
   "cell_type": "code",
   "execution_count": null,
   "metadata": {},
   "outputs": [],
   "source": [
    "def query_case(entity_title, question, method):\n",
    "\n",
    "    mentioned_in_query = \"\"\"\n",
    "    MATCH (p:Person)-[:MENTIONED_IN]->(e:Extract)\n",
    "    WHERE p.name = '\"\"\" + entity_title + \"\"\"'\n",
    "    WITH e, max(score) AS score \n",
    "    RETURN e.text AS text, score, {} AS metadata\n",
    "    \"\"\"\n",
    "\n",
    "    print(\"Searching for entity:\" + mentioned_in_query)\n",
    "\n",
    "    hypothetic_question_vectorstore = Neo4jVector.from_existing_index(\n",
    "        OpenAIEmbeddings(),\n",
    "        index_name=\"hypothetical_questions\",\n",
    "        retrieval_query=mentioned_in_query,\n",
    "    )\n",
    "\n",
    "    template = \"\"\"Answer the question based only on the following context:\n",
    "    {context}\n",
    "\n",
    "    Question: {question}\n",
    "    \"\"\"\n",
    "\n",
    "    prompt = ChatPromptTemplate.from_template(template)\n",
    "\n",
    "    model = ChatOpenAI()\n",
    "\n",
    "    retriever = hypothetic_question_vectorstore.as_retriever()\n",
    "\n",
    "    print(retriever.get_relevant_documents(\"Who were the guarantors?\"))\n",
    "\n",
    "    chain = (\n",
    "        RunnableParallel(\n",
    "            {\n",
    "                \"context\": itemgetter(\"question\") | retriever,\n",
    "                \"question\": itemgetter(\"question\"),\n",
    "            }\n",
    "        )\n",
    "        | prompt\n",
    "        | model\n",
    "        | StrOutputParser()\n",
    "        | PrintRetrievedText()\n",
    "    )\n",
    "\n",
    "    return chain.invoke({\"question\": question})"
   ]
  },
  {
   "cell_type": "code",
   "execution_count": null,
   "metadata": {},
   "outputs": [],
   "source": [
    "query_case(\"[2023] SGHC(I) 21\", question, \"QUESTION\")"
   ]
  }
 ],
 "metadata": {
  "kernelspec": {
   "display_name": ".venv",
   "language": "python",
   "name": "python3"
  },
  "language_info": {
   "codemirror_mode": {
    "name": "ipython",
    "version": 3
   },
   "file_extension": ".py",
   "mimetype": "text/x-python",
   "name": "python",
   "nbconvert_exporter": "python",
   "pygments_lexer": "ipython3",
   "version": "3.9.6"
  }
 },
 "nbformat": 4,
 "nbformat_minor": 2
}
