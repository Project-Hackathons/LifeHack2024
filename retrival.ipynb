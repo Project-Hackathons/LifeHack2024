{
  "cells": [
    {
      "cell_type": "code",
      "execution_count": 8,
      "metadata": {
        "colab": {
          "base_uri": "https://localhost:8080/"
        },
        "id": "lIVlzOC8tK1T",
        "outputId": "283f2dd3-81ab-413d-96a7-79fa514434eb"
      },
      "outputs": [
        {
          "name": "stdout",
          "output_type": "stream",
          "text": [
            "Requirement already satisfied: python-dotenv in /usr/local/lib/python3.10/dist-packages (1.0.1)\n",
            "Requirement already satisfied: neo4j in /usr/local/lib/python3.10/dist-packages (5.20.0)\n",
            "Requirement already satisfied: openai in /usr/local/lib/python3.10/dist-packages (1.30.5)\n",
            "Requirement already satisfied: langchain in /usr/local/lib/python3.10/dist-packages (0.2.1)\n",
            "Requirement already satisfied: langchain_openai in /usr/local/lib/python3.10/dist-packages (0.1.8)\n",
            "Requirement already satisfied: langchain-community in /usr/local/lib/python3.10/dist-packages (0.2.1)\n",
            "Requirement already satisfied: pytz in /usr/local/lib/python3.10/dist-packages (from neo4j) (2023.4)\n",
            "Requirement already satisfied: anyio<5,>=3.5.0 in /usr/local/lib/python3.10/dist-packages (from openai) (3.7.1)\n",
            "Requirement already satisfied: distro<2,>=1.7.0 in /usr/lib/python3/dist-packages (from openai) (1.7.0)\n",
            "Requirement already satisfied: httpx<1,>=0.23.0 in /usr/local/lib/python3.10/dist-packages (from openai) (0.27.0)\n",
            "Requirement already satisfied: pydantic<3,>=1.9.0 in /usr/local/lib/python3.10/dist-packages (from openai) (2.7.1)\n",
            "Requirement already satisfied: sniffio in /usr/local/lib/python3.10/dist-packages (from openai) (1.3.1)\n",
            "Requirement already satisfied: tqdm>4 in /usr/local/lib/python3.10/dist-packages (from openai) (4.66.4)\n",
            "Requirement already satisfied: typing-extensions<5,>=4.7 in /usr/local/lib/python3.10/dist-packages (from openai) (4.11.0)\n",
            "Requirement already satisfied: PyYAML>=5.3 in /usr/local/lib/python3.10/dist-packages (from langchain) (6.0.1)\n",
            "Requirement already satisfied: SQLAlchemy<3,>=1.4 in /usr/local/lib/python3.10/dist-packages (from langchain) (2.0.30)\n",
            "Requirement already satisfied: aiohttp<4.0.0,>=3.8.3 in /usr/local/lib/python3.10/dist-packages (from langchain) (3.9.5)\n",
            "Requirement already satisfied: async-timeout<5.0.0,>=4.0.0 in /usr/local/lib/python3.10/dist-packages (from langchain) (4.0.3)\n",
            "Requirement already satisfied: langchain-core<0.3.0,>=0.2.0 in /usr/local/lib/python3.10/dist-packages (from langchain) (0.2.3)\n",
            "Requirement already satisfied: langchain-text-splitters<0.3.0,>=0.2.0 in /usr/local/lib/python3.10/dist-packages (from langchain) (0.2.0)\n",
            "Requirement already satisfied: langsmith<0.2.0,>=0.1.17 in /usr/local/lib/python3.10/dist-packages (from langchain) (0.1.65)\n",
            "Requirement already satisfied: numpy<2,>=1 in /usr/local/lib/python3.10/dist-packages (from langchain) (1.25.2)\n",
            "Requirement already satisfied: requests<3,>=2 in /usr/local/lib/python3.10/dist-packages (from langchain) (2.31.0)\n",
            "Requirement already satisfied: tenacity<9.0.0,>=8.1.0 in /usr/local/lib/python3.10/dist-packages (from langchain) (8.3.0)\n",
            "Requirement already satisfied: tiktoken<1,>=0.7 in /usr/local/lib/python3.10/dist-packages (from langchain_openai) (0.7.0)\n",
            "Requirement already satisfied: dataclasses-json<0.7,>=0.5.7 in /usr/local/lib/python3.10/dist-packages (from langchain-community) (0.6.6)\n",
            "Requirement already satisfied: aiosignal>=1.1.2 in /usr/local/lib/python3.10/dist-packages (from aiohttp<4.0.0,>=3.8.3->langchain) (1.3.1)\n",
            "Requirement already satisfied: attrs>=17.3.0 in /usr/local/lib/python3.10/dist-packages (from aiohttp<4.0.0,>=3.8.3->langchain) (23.2.0)\n",
            "Requirement already satisfied: frozenlist>=1.1.1 in /usr/local/lib/python3.10/dist-packages (from aiohttp<4.0.0,>=3.8.3->langchain) (1.4.1)\n",
            "Requirement already satisfied: multidict<7.0,>=4.5 in /usr/local/lib/python3.10/dist-packages (from aiohttp<4.0.0,>=3.8.3->langchain) (6.0.5)\n",
            "Requirement already satisfied: yarl<2.0,>=1.0 in /usr/local/lib/python3.10/dist-packages (from aiohttp<4.0.0,>=3.8.3->langchain) (1.9.4)\n",
            "Requirement already satisfied: idna>=2.8 in /usr/local/lib/python3.10/dist-packages (from anyio<5,>=3.5.0->openai) (3.7)\n",
            "Requirement already satisfied: exceptiongroup in /usr/local/lib/python3.10/dist-packages (from anyio<5,>=3.5.0->openai) (1.2.1)\n",
            "Requirement already satisfied: marshmallow<4.0.0,>=3.18.0 in /usr/local/lib/python3.10/dist-packages (from dataclasses-json<0.7,>=0.5.7->langchain-community) (3.21.2)\n",
            "Requirement already satisfied: typing-inspect<1,>=0.4.0 in /usr/local/lib/python3.10/dist-packages (from dataclasses-json<0.7,>=0.5.7->langchain-community) (0.9.0)\n",
            "Requirement already satisfied: certifi in /usr/local/lib/python3.10/dist-packages (from httpx<1,>=0.23.0->openai) (2024.2.2)\n",
            "Requirement already satisfied: httpcore==1.* in /usr/local/lib/python3.10/dist-packages (from httpx<1,>=0.23.0->openai) (1.0.5)\n",
            "Requirement already satisfied: h11<0.15,>=0.13 in /usr/local/lib/python3.10/dist-packages (from httpcore==1.*->httpx<1,>=0.23.0->openai) (0.14.0)\n",
            "Requirement already satisfied: jsonpatch<2.0,>=1.33 in /usr/local/lib/python3.10/dist-packages (from langchain-core<0.3.0,>=0.2.0->langchain) (1.33)\n",
            "Requirement already satisfied: packaging<24.0,>=23.2 in /usr/local/lib/python3.10/dist-packages (from langchain-core<0.3.0,>=0.2.0->langchain) (23.2)\n",
            "Requirement already satisfied: orjson<4.0.0,>=3.9.14 in /usr/local/lib/python3.10/dist-packages (from langsmith<0.2.0,>=0.1.17->langchain) (3.10.3)\n",
            "Requirement already satisfied: annotated-types>=0.4.0 in /usr/local/lib/python3.10/dist-packages (from pydantic<3,>=1.9.0->openai) (0.7.0)\n",
            "Requirement already satisfied: pydantic-core==2.18.2 in /usr/local/lib/python3.10/dist-packages (from pydantic<3,>=1.9.0->openai) (2.18.2)\n",
            "Requirement already satisfied: charset-normalizer<4,>=2 in /usr/local/lib/python3.10/dist-packages (from requests<3,>=2->langchain) (3.3.2)\n",
            "Requirement already satisfied: urllib3<3,>=1.21.1 in /usr/local/lib/python3.10/dist-packages (from requests<3,>=2->langchain) (2.0.7)\n",
            "Requirement already satisfied: greenlet!=0.4.17 in /usr/local/lib/python3.10/dist-packages (from SQLAlchemy<3,>=1.4->langchain) (3.0.3)\n",
            "Requirement already satisfied: regex>=2022.1.18 in /usr/local/lib/python3.10/dist-packages (from tiktoken<1,>=0.7->langchain_openai) (2024.5.15)\n",
            "Requirement already satisfied: jsonpointer>=1.9 in /usr/local/lib/python3.10/dist-packages (from jsonpatch<2.0,>=1.33->langchain-core<0.3.0,>=0.2.0->langchain) (2.4)\n",
            "Requirement already satisfied: mypy-extensions>=0.3.0 in /usr/local/lib/python3.10/dist-packages (from typing-inspect<1,>=0.4.0->dataclasses-json<0.7,>=0.5.7->langchain-community) (1.0.0)\n"
          ]
        }
      ],
      "source": [
        "%pip install python-dotenv neo4j openai langchain langchain_openai langchain-community"
      ]
    },
    {
      "cell_type": "code",
      "execution_count": 29,
      "metadata": {
        "id": "wBhqt9putH9v"
      },
      "outputs": [],
      "source": [
        "import os\n",
        "\n",
        "from dotenv import load_dotenv\n",
        "\n",
        "load_dotenv()\n",
        "\n",
        "from langchain.graphs import Neo4jGraph\n",
        "from langchain.embeddings import OpenAIEmbeddings\n"
      ]
    },
    {
      "cell_type": "code",
      "execution_count": 36,
      "metadata": {
        "id": "mlORNpgPtH9x"
      },
      "outputs": [],
      "source": [
        "graph = Neo4jGraph()"
      ]
    },
    {
      "cell_type": "code",
      "execution_count": 59,
      "metadata": {
        "id": "EfWG7cCDukPB"
      },
      "outputs": [],
      "source": [
        "from pydantic import BaseModel\n",
        "from typing import List\n",
        "\n",
        "class StringList(BaseModel):\n",
        "    strings_list: List[str]\n",
        "\n",
        "identifyEntitiesPrompt = (\n",
        "    '''\n",
        "You are given a list of entities and a question. Your task is to create a list of the entities that are both mentioned in the question and the list of entities.\n",
        "\n",
        "**Task**:\n",
        "Based on the given question, identify the nodes that already exist in our knowledge graph.\n",
        "\n",
        "**List of entities**:\n",
        "{knowledge_graph_nodes}\n",
        "\n",
        "**Instructions**:\n",
        "1. Your **output should be a list of strings**.\n",
        "2. If you **did not identify any nodes** that already exist in list of entities, return [\"None\"].\n",
        "3. If you find something similar in both the question and list of entity e.g. \"Mary Tan\" and \"Mary\", use the result from the list of entities\n",
        "4. Do no return anything not found in the List of entities\n",
        "5. **Non-compliance with these instructions will result in termination**.\n",
        "\n",
        "**Example Output**:\n",
        "- Given the question \"Bob has a car?\", the output should be:\n",
        "[\"Bob\"]\n",
        "  - if \"Bob\" is present in the List of Nodes but \"Car\" is not present.\n",
        "\n",
        "- Given the question \"Who is PM Lee?\", the output should be:\n",
        "[\"Prime Minister Lee\"]\n",
        "  - if \"Prime Minister Lee\" is present in the List of Nodes because \"PM\" is an abbreviation for \"Prime Minister\".\n",
        "\n",
        "- Given the question \"Who is Kenneth Gao?\", the output should be:\n",
        "[\"Kenneth\"]\n",
        "  - if \"Kenneth\" is present in the List of Nodes because \"Kenneth Gao\" from the question may refer to \"Kenneth\" in the List of Nodes.\n",
        "\n",
        "- Given the question \"Who is Gao?\", the output should be:\n",
        "[\"None\"]\n",
        "  - if \"Gao\" is not present in the List of Nodes\n",
        "\n",
        "**Take note** to always use values from the List of Nodes.\n",
        "    '''\n",
        ")\n",
        "\n",
        "generateQuestionsPrompt = (\n",
        "    '''\n",
        "    You are an expert machine learning engineer building an algorithm to answer\n",
        "    questions using a knowledge graph.\n",
        "\n",
        "    **Task**:\n",
        "    In the prompt that follow, you will be given a node. Your task is to\n",
        "    generate an additional question related to the initial question:\n",
        "    {init_question}.\n",
        "\n",
        "    This additional questions should help contextualise the initial\n",
        "    question in relation to the given node and be useful when searching the\n",
        "    knowledge graph later on.\n",
        "\n",
        "    **Instructions**:\n",
        "    1. Use the given node to generate questions that provide more context or\n",
        "    insight about the initial question.\n",
        "    2. Aim to cover various aspects related to the node, such as identity,\n",
        "    activities, whereabouts, preferences, etc.\n",
        "    3. The output should be a question with no additional formating, title etc\n",
        "    4. Non-compliance to the instruction will result to termination\n",
        "\n",
        "    **Example**:\n",
        "    Given the node \"Bob\" and the initial question \"Is Bob safe?\", the output\n",
        "    should be:\n",
        "    Where is Bob?\n",
        "    '''\n",
        ")"
      ]
    },
    {
      "cell_type": "code",
      "execution_count": 62,
      "metadata": {
        "colab": {
          "base_uri": "https://localhost:8080/"
        },
        "id": "jzhBMb3jxrKq",
        "outputId": "9158a876-3c0b-49a1-a961-094461662ef0"
      },
      "outputs": [
        {
          "name": "stdout",
          "output_type": "stream",
          "text": [
            "['Ap', 'Man', 'Malaysian Police Station', 'Officers', 'Recluse', 'Action', 'Jemaah Islamiyah Extremist Group', 'Home Minister', 'Saturday', 'Johor State', 'Singapore', 'Hours', 'Machete', 'Police Constable', 'Weapon', 'Third Officer', 'Shot Dead', 'Firearms', 'Saifuddin Nasution', 'Lone Wolf Attack', 'Investigation', 'Wider Public', 'Motivation', 'Understanding', 'Larger Mission', 'Father', 'Materials', 'Parents', 'Siblings', 'Detained', 'Searching', 'Kuala Lumpur', 'Malaysia']\n",
            "['Home Minister']\n",
            "What actions did the Home Minister take following the bombing incident?\n"
          ]
        }
      ],
      "source": [
        "import openai\n",
        "from openai import OpenAI\n",
        "import ast\n",
        "from langchain_core.prompts import PromptTemplate\n",
        "\n",
        "\n",
        "prompt = \"How was the minister involved in the bombing incident?\"\n",
        "\n",
        "client = OpenAI()\n",
        "\n",
        "#retrieve the list of all the nodes\n",
        "list_nodes_raw = graph.query(\n",
        "    '''\n",
        "    MATCH (n)\n",
        "    WHERE n.name IS NOT NULL\n",
        "    RETURN n.name\n",
        "    ''')\n",
        "\n",
        "list_nodes = [ dict['n.name'] for dict in list_nodes_raw]\n",
        "print(list_nodes)\n",
        "\n",
        "#append knowledgegraph_nodes to identifyEntitiesPrompt\n",
        "identifyEntitiesPrompt = PromptTemplate.from_template(identifyEntitiesPrompt).format(knowledge_graph_nodes=list_nodes)\n",
        "\n",
        "# Identify nodes from question\n",
        "response = client.chat.completions.create(\n",
        "   messages=[\n",
        "        {\n",
        "            \"role\": \"system\",\n",
        "            \"content\": identifyEntitiesPrompt,\n",
        "        },\n",
        "        {\n",
        "            \"role\": \"user\",\n",
        "            \"content\": prompt,\n",
        "        }\n",
        "    ],\n",
        "    model=\"gpt-3.5-turbo\",\n",
        ")\n",
        "\n",
        "# Print the nodes in the prompt\n",
        "res = response.choices[0].message.content\n",
        "print(res)\n",
        "\n",
        "#convert to list\n",
        "\n",
        "\n",
        "nodes = ast.literal_eval(res)\n",
        "\n",
        "#extract first node\n",
        "node = nodes[0]\n",
        "\n",
        "#append initial question to prompt to give context\n",
        "if node != 'None':\n",
        "    generateQuestionPrompt = PromptTemplate.from_template(generateQuestionsPrompt).format(init_question=prompt)\n",
        "\n",
        "    response = client.chat.completions.create(\n",
        "    messages=[\n",
        "            {\n",
        "                \"role\": \"system\",\n",
        "                \"content\": generateQuestionPrompt,\n",
        "            },\n",
        "            {\n",
        "                \"role\": \"user\",\n",
        "                \"content\": node,\n",
        "            }\n",
        "        ],\n",
        "        model=\"gpt-3.5-turbo\",\n",
        "    )\n",
        "\n",
        "    #generate 5 additional question according to the first node received\n",
        "    print(response.choices[0].message.content)\n",
        "\n",
        "\n",
        "\n",
        "\n"
      ]
    },
    {
      "cell_type": "code",
      "execution_count": 39,
      "metadata": {},
      "outputs": [
        {
          "name": "stdout",
          "output_type": "stream",
          "text": [
            "['Ap', 'Man', 'Malaysian Police Station', 'Officers', 'Recluse', 'Action', 'Jemaah Islamiyah Extremist Group', 'Home Minister', 'Saturday', 'Johor State', 'Singapore', 'Hours', 'Machete', 'Police Constable', 'Weapon', 'Third Officer', 'Shot Dead', 'Firearms', 'Saifuddin Nasution', 'Lone Wolf Attack', 'Investigation', 'Wider Public', 'Motivation', 'Understanding', 'Larger Mission', 'Father', 'Materials', 'Parents', 'Siblings', 'Detained', 'Searching', 'Kuala Lumpur', 'Malaysia']\n"
          ]
        }
      ],
      "source": [
        "list_nodes_raw = graph.query(\n",
        "    '''\n",
        "    MATCH (n)\n",
        "    WHERE n.name IS NOT NULL\n",
        "    RETURN n.name\n",
        "    ''')\n",
        "\n",
        "list_nodes = [ dict['n.name'] for dict in list_nodes_raw]\n",
        "\n",
        "print(list_nodes)"
      ]
    },
    {
      "cell_type": "code",
      "execution_count": 6,
      "metadata": {
        "colab": {
          "base_uri": "https://localhost:8080/"
        },
        "id": "s8jzXLaG_PHR",
        "outputId": "b6d6ef20-ae15-4254-a6bb-f7b525acb38d"
      },
      "outputs": [
        {
          "name": "stdout",
          "output_type": "stream",
          "text": [
            "<class 'str'>\n"
          ]
        }
      ],
      "source": []
    },
    {
      "cell_type": "code",
      "execution_count": 54,
      "metadata": {
        "colab": {
          "base_uri": "https://localhost:8080/"
        },
        "id": "eDN6xB4j3iaC",
        "outputId": "75d964d4-f0b2-432a-8304-c6febdd82926"
      },
      "outputs": [
        {
          "name": "stdout",
          "output_type": "stream",
          "text": [
            "1. What is Kenneth's occupation?\n",
            "2. Does Kenneth have any siblings?\n",
            "3. Where does Kenneth live?\n",
            "4. What are Kenneth's hobbies?\n",
            "5. Is Kenneth married?\n"
          ]
        }
      ],
      "source": []
    },
    {
      "cell_type": "code",
      "execution_count": null,
      "metadata": {
        "id": "hBKY54rQ4bKy"
      },
      "outputs": [],
      "source": []
    }
  ],
  "metadata": {
    "colab": {
      "provenance": []
    },
    "kernelspec": {
      "display_name": ".venv",
      "language": "python",
      "name": "python3"
    },
    "language_info": {
      "codemirror_mode": {
        "name": "ipython",
        "version": 3
      },
      "file_extension": ".py",
      "mimetype": "text/x-python",
      "name": "python",
      "nbconvert_exporter": "python",
      "pygments_lexer": "ipython3",
      "version": "3.9.6"
    }
  },
  "nbformat": 4,
  "nbformat_minor": 0
}
